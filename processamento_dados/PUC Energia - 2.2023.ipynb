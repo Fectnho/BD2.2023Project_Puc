{
 "cells": [
  {
   "cell_type": "code",
   "execution_count": 318,
   "id": "8bc7a85f",
   "metadata": {},
   "outputs": [],
   "source": [
    "import pandas as pd\n",
    "import numpy as np\n",
    "from datetime import datetime\n",
    "from sklearn.preprocessing import MinMaxScaler\n",
    "from sklearn.cluster import KMeans\n",
    "from IPython.display import Image\n",
    "import seaborn as sns\n",
    "import matplotlib.pyplot as plt\n",
    "from matplotlib.gridspec import GridSpec\n",
    "from functools import reduce\n",
    "import pickle\n",
    "import warnings\n",
    "warnings.filterwarnings(\"ignore\")"
   ]
  },
  {
   "cell_type": "code",
   "execution_count": 319,
   "id": "c23ce1d3",
   "metadata": {},
   "outputs": [],
   "source": [
    "#carregando as tableas"
   ]
  },
  {
   "cell_type": "code",
   "execution_count": 320,
   "id": "cfc29235",
   "metadata": {},
   "outputs": [],
   "source": [
    "tab_calendario = pd.read_csv('dim_calendario.csv')"
   ]
  },
  {
   "cell_type": "code",
   "execution_count": 321,
   "id": "5f7480a3",
   "metadata": {},
   "outputs": [
    {
     "data": {
      "text/plain": [
       "fk_calendario    int64\n",
       "ano              int64\n",
       "dtype: object"
      ]
     },
     "execution_count": 321,
     "metadata": {},
     "output_type": "execute_result"
    }
   ],
   "source": [
    "tab_calendario.dtypes "
   ]
  },
  {
   "cell_type": "code",
   "execution_count": 322,
   "id": "0fce6bd8",
   "metadata": {},
   "outputs": [],
   "source": [
    "tab_pais = pd.read_csv('dim_pais.csv')"
   ]
  },
  {
   "cell_type": "code",
   "execution_count": 323,
   "id": "8ebc04c2",
   "metadata": {},
   "outputs": [
    {
     "data": {
      "text/plain": [
       "fk_pais_1       int64\n",
       "nome_pais      object\n",
       "pais_bloco     object\n",
       "pais_regiao    object\n",
       "pais_renda     object\n",
       "dtype: object"
      ]
     },
     "execution_count": 323,
     "metadata": {},
     "output_type": "execute_result"
    }
   ],
   "source": [
    "tab_pais.dtypes"
   ]
  },
  {
   "cell_type": "code",
   "execution_count": 324,
   "id": "ca93178b",
   "metadata": {},
   "outputs": [],
   "source": [
    "#renomeando a coluna "
   ]
  },
  {
   "cell_type": "code",
   "execution_count": 325,
   "id": "856a50c8",
   "metadata": {},
   "outputs": [],
   "source": [
    "tab_pais = tab_pais.rename (columns = {'fk_pais_1':'fk_pais'})"
   ]
  },
  {
   "cell_type": "code",
   "execution_count": 326,
   "id": "17503773",
   "metadata": {},
   "outputs": [
    {
     "data": {
      "text/plain": [
       "fk_pais         int64\n",
       "nome_pais      object\n",
       "pais_bloco     object\n",
       "pais_regiao    object\n",
       "pais_renda     object\n",
       "dtype: object"
      ]
     },
     "execution_count": 326,
     "metadata": {},
     "output_type": "execute_result"
    }
   ],
   "source": [
    "tab_pais.dtypes"
   ]
  },
  {
   "cell_type": "code",
   "execution_count": 327,
   "id": "7a89673e",
   "metadata": {},
   "outputs": [],
   "source": [
    "tab_produto = pd.read_csv('dim_produto.csv')"
   ]
  },
  {
   "cell_type": "code",
   "execution_count": 328,
   "id": "6da701a0",
   "metadata": {},
   "outputs": [
    {
     "data": {
      "text/plain": [
       "fk_produto       int64\n",
       "nome_produto    object\n",
       "tipo            object\n",
       "dtype: object"
      ]
     },
     "execution_count": 328,
     "metadata": {},
     "output_type": "execute_result"
    }
   ],
   "source": [
    "tab_produto.dtypes"
   ]
  },
  {
   "cell_type": "code",
   "execution_count": 329,
   "id": "92f97c0d",
   "metadata": {},
   "outputs": [],
   "source": [
    "tab_setor = pd.read_csv('dim_setor.csv')"
   ]
  },
  {
   "cell_type": "code",
   "execution_count": 330,
   "id": "fc637246",
   "metadata": {},
   "outputs": [
    {
     "data": {
      "text/plain": [
       "fk_setor       int64\n",
       "nome_setor    object\n",
       "dtype: object"
      ]
     },
     "execution_count": 330,
     "metadata": {},
     "output_type": "execute_result"
    }
   ],
   "source": [
    "tab_setor.dtypes"
   ]
  },
  {
   "cell_type": "code",
   "execution_count": 331,
   "id": "2b4a32ec",
   "metadata": {},
   "outputs": [],
   "source": [
    "tab_fato_energia = pd.read_csv('fato_energia.csv')"
   ]
  },
  {
   "cell_type": "code",
   "execution_count": 332,
   "id": "2ba7a288",
   "metadata": {},
   "outputs": [
    {
     "data": {
      "text/plain": [
       "id_energia        int64\n",
       "fk_pais           int64\n",
       "fk_setor          int64\n",
       "fk_produto        int64\n",
       "fk_calendario     int64\n",
       "valor            object\n",
       "dtype: object"
      ]
     },
     "execution_count": 332,
     "metadata": {},
     "output_type": "execute_result"
    }
   ],
   "source": [
    "tab_fato_energia.dtypes"
   ]
  },
  {
   "cell_type": "code",
   "execution_count": 333,
   "id": "e33604a1",
   "metadata": {},
   "outputs": [],
   "source": [
    "tab_fato_populacao = pd.read_csv('fato_populacao.csv')"
   ]
  },
  {
   "cell_type": "code",
   "execution_count": 334,
   "id": "debeb65e",
   "metadata": {},
   "outputs": [
    {
     "data": {
      "text/plain": [
       "pais_bloco        object\n",
       "fk_pais            int64\n",
       "fk_calendario      int64\n",
       "populacao        float64\n",
       "id_populacao       int64\n",
       "dtype: object"
      ]
     },
     "execution_count": 334,
     "metadata": {},
     "output_type": "execute_result"
    }
   ],
   "source": [
    "tab_fato_populacao.dtypes"
   ]
  },
  {
   "cell_type": "code",
   "execution_count": 335,
   "id": "d7c28936",
   "metadata": {},
   "outputs": [],
   "source": [
    "#unindo as tabelas"
   ]
  },
  {
   "cell_type": "code",
   "execution_count": 336,
   "id": "e527bc25",
   "metadata": {},
   "outputs": [],
   "source": [
    "tab_energia = pd.merge(tab_fato_energia,tab_setor, on = 'fk_setor', how = 'inner')"
   ]
  },
  {
   "cell_type": "code",
   "execution_count": 337,
   "id": "19d4b02b",
   "metadata": {},
   "outputs": [
    {
     "name": "stdout",
     "output_type": "stream",
     "text": [
      "        id_energia  fk_pais  fk_setor  fk_produto  fk_calendario        valor  \\\n",
      "0                1        2         9           1              1  1368.251838   \n",
      "1               13        2         9           2              1  620.7177142   \n",
      "2               25        2         9           8              1            0   \n",
      "3               37        2         9           6              1  75.06450081   \n",
      "4               49        2         9           7              1            0   \n",
      "...            ...      ...       ...         ...            ...          ...   \n",
      "222151      222152       43         2           7             51            0   \n",
      "222152      222153       43         2           9             51     33066.05   \n",
      "222153      222154        1         2           4             51           ..   \n",
      "222154      222155        1         2           7             51           ..   \n",
      "222155      222156        1         2           9             51           ..   \n",
      "\n",
      "                      nome_setor  \n",
      "0                Production (PJ)  \n",
      "1                Production (PJ)  \n",
      "2                Production (PJ)  \n",
      "3                Production (PJ)  \n",
      "4                Production (PJ)  \n",
      "...                          ...  \n",
      "222151  Electricity output (GWh)  \n",
      "222152  Electricity output (GWh)  \n",
      "222153  Electricity output (GWh)  \n",
      "222154  Electricity output (GWh)  \n",
      "222155  Electricity output (GWh)  \n",
      "\n",
      "[222156 rows x 7 columns]\n"
     ]
    }
   ],
   "source": [
    "print(tab_energia)"
   ]
  },
  {
   "cell_type": "code",
   "execution_count": 338,
   "id": "619b9ba6",
   "metadata": {},
   "outputs": [],
   "source": [
    "#Removendo valores não numéricos"
   ]
  },
  {
   "cell_type": "code",
   "execution_count": 339,
   "id": "1ad65f5b",
   "metadata": {},
   "outputs": [],
   "source": [
    "tab_energia = tab_energia[tab_energia['valor'] != '..']"
   ]
  },
  {
   "cell_type": "code",
   "execution_count": 340,
   "id": "81077838",
   "metadata": {},
   "outputs": [],
   "source": [
    "tab_energia = pd.merge(tab_energia, tab_produto, on = 'fk_produto', how = 'inner')"
   ]
  },
  {
   "cell_type": "code",
   "execution_count": 341,
   "id": "67f2eb89",
   "metadata": {},
   "outputs": [
    {
     "name": "stdout",
     "output_type": "stream",
     "text": [
      "        id_energia  fk_pais  fk_setor  fk_produto  fk_calendario        valor  \\\n",
      "0                1        2         9           1              1  1368.251838   \n",
      "1               97        3         9           1              1  43.48392895   \n",
      "2              193        4         9           1              1  284.4996793   \n",
      "3              289        6         9           1              1  396.0110403   \n",
      "4              385        7         9           1              1  47.31181134   \n",
      "...            ...      ...       ...         ...            ...          ...   \n",
      "197880      222141       20         2           9             51     58684.12   \n",
      "197881      222144       30         2           9             51     7745.183   \n",
      "197882      222147       36         2           9             51     1444.633   \n",
      "197883      222150       39         2           9             51    16832.723   \n",
      "197884      222153       43         2           9             51     33066.05   \n",
      "\n",
      "                      nome_setor              nome_produto tipo  \n",
      "0                Production (PJ)  Coal, peat and oil shale  NRW  \n",
      "1                Production (PJ)  Coal, peat and oil shale  NRW  \n",
      "2                Production (PJ)  Coal, peat and oil shale  NRW  \n",
      "3                Production (PJ)  Coal, peat and oil shale  NRW  \n",
      "4                Production (PJ)  Coal, peat and oil shale  NRW  \n",
      "...                          ...                       ...  ...  \n",
      "197880  Electricity output (GWh)         Renewable sources   RW  \n",
      "197881  Electricity output (GWh)         Renewable sources   RW  \n",
      "197882  Electricity output (GWh)         Renewable sources   RW  \n",
      "197883  Electricity output (GWh)         Renewable sources   RW  \n",
      "197884  Electricity output (GWh)         Renewable sources   RW  \n",
      "\n",
      "[197885 rows x 9 columns]\n"
     ]
    }
   ],
   "source": [
    "print(tab_energia)"
   ]
  },
  {
   "cell_type": "code",
   "execution_count": 342,
   "id": "76d121da",
   "metadata": {},
   "outputs": [],
   "source": [
    "tab_energia.valor = pd.to_numeric(tab_energia.valor, errors = 'coerce')"
   ]
  },
  {
   "cell_type": "code",
   "execution_count": 343,
   "id": "11823bf2",
   "metadata": {},
   "outputs": [],
   "source": [
    "tab_energia = pd.merge(tab_energia, tab_pais, on = 'fk_pais', how = 'inner')"
   ]
  },
  {
   "cell_type": "code",
   "execution_count": 344,
   "id": "455762d6",
   "metadata": {},
   "outputs": [
    {
     "name": "stdout",
     "output_type": "stream",
     "text": [
      "        id_energia  fk_pais  fk_setor  fk_produto  fk_calendario  \\\n",
      "0                1        2         9           1              1   \n",
      "1             4357        2         9           1              2   \n",
      "2             8713        2         9           1              3   \n",
      "3            13069        2         9           1              4   \n",
      "4            17425        2         9           1              5   \n",
      "...            ...      ...       ...         ...            ...   \n",
      "197880      204729       43         2           9             47   \n",
      "197881      209085       43         2           9             48   \n",
      "197882      213441       43         2           9             49   \n",
      "197883      217797       43         2           9             50   \n",
      "197884      222153       43         2           9             51   \n",
      "\n",
      "               valor                nome_setor              nome_produto tipo  \\\n",
      "0        1368.251838           Production (PJ)  Coal, peat and oil shale  NRW   \n",
      "1        1648.414248           Production (PJ)  Coal, peat and oil shale  NRW   \n",
      "2        1685.223676           Production (PJ)  Coal, peat and oil shale  NRW   \n",
      "3        1640.362098           Production (PJ)  Coal, peat and oil shale  NRW   \n",
      "4        1874.310525           Production (PJ)  Coal, peat and oil shale  NRW   \n",
      "...              ...                       ...                       ...  ...   \n",
      "197880  25873.227000  Electricity output (GWh)         Renewable sources   RW   \n",
      "197881  30296.604000  Electricity output (GWh)         Renewable sources   RW   \n",
      "197882  33747.623000  Electricity output (GWh)         Renewable sources   RW   \n",
      "197883  29549.073000  Electricity output (GWh)         Renewable sources   RW   \n",
      "197884  33066.050000  Electricity output (GWh)         Renewable sources   RW   \n",
      "\n",
      "        nome_pais pais_bloco          pais_regiao           pais_renda  \n",
      "0       Australia        AUS  East Asia & Pacific          High income  \n",
      "1       Australia        AUS  East Asia & Pacific          High income  \n",
      "2       Australia        AUS  East Asia & Pacific          High income  \n",
      "3       Australia        AUS  East Asia & Pacific          High income  \n",
      "4       Australia        AUS  East Asia & Pacific          High income  \n",
      "...           ...        ...                  ...                  ...  \n",
      "197880   Thailand        THA  East Asia & Pacific  Upper middle income  \n",
      "197881   Thailand        THA  East Asia & Pacific  Upper middle income  \n",
      "197882   Thailand        THA  East Asia & Pacific  Upper middle income  \n",
      "197883   Thailand        THA  East Asia & Pacific  Upper middle income  \n",
      "197884   Thailand        THA  East Asia & Pacific  Upper middle income  \n",
      "\n",
      "[197885 rows x 13 columns]\n"
     ]
    }
   ],
   "source": [
    "print (tab_energia)"
   ]
  },
  {
   "cell_type": "code",
   "execution_count": 345,
   "id": "e447e0e6",
   "metadata": {},
   "outputs": [],
   "source": [
    "tab_energia = pd.merge(tab_energia, tab_calendario, on = 'fk_calendario', how = 'inner')"
   ]
  },
  {
   "cell_type": "code",
   "execution_count": 346,
   "id": "ffcc8388",
   "metadata": {},
   "outputs": [
    {
     "name": "stdout",
     "output_type": "stream",
     "text": [
      "        id_energia  fk_pais  fk_setor  fk_produto  fk_calendario  \\\n",
      "0                1        2         9           1              1   \n",
      "1                2        2         5           1              1   \n",
      "2                3        2         4           1              1   \n",
      "3                4        2        11           1              1   \n",
      "4                5        2         3           1              1   \n",
      "...            ...      ...       ...         ...            ...   \n",
      "196425      217570       43        10           5             50   \n",
      "196426      217571       43         1           5             50   \n",
      "196427      217572       43         8           5             50   \n",
      "196428      217795       43         2           4             50   \n",
      "196429      217797       43         2           9             50   \n",
      "\n",
      "                valor                             nome_setor  \\\n",
      "0         1368.251838                        Production (PJ)   \n",
      "1            0.000000                           Imports (PJ)   \n",
      "2         -541.424001                           Exports (PJ)   \n",
      "3          884.297470               Total energy supply (PJ)   \n",
      "4         -516.538554  Electricity, CHP and heat plants (PJ)   \n",
      "...               ...                                    ...   \n",
      "196425       0.000000                       Residential (PJ)   \n",
      "196426       0.000000    Commercial and public services (PJ)   \n",
      "196427       0.000000           Other final consumption (PJ)   \n",
      "196428  149836.984000               Electricity output (GWh)   \n",
      "196429   29549.073000               Electricity output (GWh)   \n",
      "\n",
      "                    nome_produto tipo  nome_pais pais_bloco  \\\n",
      "0       Coal, peat and oil shale  NRW  Australia        AUS   \n",
      "1       Coal, peat and oil shale  NRW  Australia        AUS   \n",
      "2       Coal, peat and oil shale  NRW  Australia        AUS   \n",
      "3       Coal, peat and oil shale  NRW  Australia        AUS   \n",
      "4       Coal, peat and oil shale  NRW  Australia        AUS   \n",
      "...                          ...  ...        ...        ...   \n",
      "196425                      Heat  NRW   Thailand        THA   \n",
      "196426                      Heat  NRW   Thailand        THA   \n",
      "196427                      Heat  NRW   Thailand        THA   \n",
      "196428              Fossil fuels  NRW   Thailand        THA   \n",
      "196429         Renewable sources   RW   Thailand        THA   \n",
      "\n",
      "                pais_regiao           pais_renda   ano  \n",
      "0       East Asia & Pacific          High income  1971  \n",
      "1       East Asia & Pacific          High income  1971  \n",
      "2       East Asia & Pacific          High income  1971  \n",
      "3       East Asia & Pacific          High income  1971  \n",
      "4       East Asia & Pacific          High income  1971  \n",
      "...                     ...                  ...   ...  \n",
      "196425  East Asia & Pacific  Upper middle income  2020  \n",
      "196426  East Asia & Pacific  Upper middle income  2020  \n",
      "196427  East Asia & Pacific  Upper middle income  2020  \n",
      "196428  East Asia & Pacific  Upper middle income  2020  \n",
      "196429  East Asia & Pacific  Upper middle income  2020  \n",
      "\n",
      "[196430 rows x 14 columns]\n"
     ]
    }
   ],
   "source": [
    "print(tab_energia)"
   ]
  },
  {
   "cell_type": "code",
   "execution_count": 347,
   "id": "4fc8a8ca",
   "metadata": {},
   "outputs": [],
   "source": [
    "tab_energia = pd.merge(tab_energia, tab_fato_populacao, on = 'fk_pais', how = 'inner')"
   ]
  },
  {
   "cell_type": "code",
   "execution_count": 348,
   "id": "c25a8ab7",
   "metadata": {},
   "outputs": [
    {
     "name": "stdout",
     "output_type": "stream",
     "text": [
      "         id_energia  fk_pais  fk_setor  fk_produto  fk_calendario_x  \\\n",
      "0                 1        2         9           1                1   \n",
      "1                 1        2         9           1                1   \n",
      "2                 1        2         9           1                1   \n",
      "3                 1        2         9           1                1   \n",
      "4                 1        2         9           1                1   \n",
      "...             ...      ...       ...         ...              ...   \n",
      "9262870      217797       43         2           9               50   \n",
      "9262871      217797       43         2           9               50   \n",
      "9262872      217797       43         2           9               50   \n",
      "9262873      217797       43         2           9               50   \n",
      "9262874      217797       43         2           9               50   \n",
      "\n",
      "                valor                nome_setor              nome_produto  \\\n",
      "0         1368.251838           Production (PJ)  Coal, peat and oil shale   \n",
      "1         1368.251838           Production (PJ)  Coal, peat and oil shale   \n",
      "2         1368.251838           Production (PJ)  Coal, peat and oil shale   \n",
      "3         1368.251838           Production (PJ)  Coal, peat and oil shale   \n",
      "4         1368.251838           Production (PJ)  Coal, peat and oil shale   \n",
      "...               ...                       ...                       ...   \n",
      "9262870  29549.073000  Electricity output (GWh)         Renewable sources   \n",
      "9262871  29549.073000  Electricity output (GWh)         Renewable sources   \n",
      "9262872  29549.073000  Electricity output (GWh)         Renewable sources   \n",
      "9262873  29549.073000  Electricity output (GWh)         Renewable sources   \n",
      "9262874  29549.073000  Electricity output (GWh)         Renewable sources   \n",
      "\n",
      "        tipo  nome_pais pais_bloco_x          pais_regiao  \\\n",
      "0        NRW  Australia          AUS  East Asia & Pacific   \n",
      "1        NRW  Australia          AUS  East Asia & Pacific   \n",
      "2        NRW  Australia          AUS  East Asia & Pacific   \n",
      "3        NRW  Australia          AUS  East Asia & Pacific   \n",
      "4        NRW  Australia          AUS  East Asia & Pacific   \n",
      "...      ...        ...          ...                  ...   \n",
      "9262870   RW   Thailand          THA  East Asia & Pacific   \n",
      "9262871   RW   Thailand          THA  East Asia & Pacific   \n",
      "9262872   RW   Thailand          THA  East Asia & Pacific   \n",
      "9262873   RW   Thailand          THA  East Asia & Pacific   \n",
      "9262874   RW   Thailand          THA  East Asia & Pacific   \n",
      "\n",
      "                  pais_renda   ano pais_bloco_y  fk_calendario_y   populacao  \\\n",
      "0                High income  1971          AUS                1  12937000.0   \n",
      "1                High income  1971          AUS                2  13177000.0   \n",
      "2                High income  1971          AUS                3  13380000.0   \n",
      "3                High income  1971          AUS                4  13723000.0   \n",
      "4                High income  1971          AUS                5  13893000.0   \n",
      "...                      ...   ...          ...              ...         ...   \n",
      "9262870  Upper middle income  2020          THA               47  70898202.0   \n",
      "9262871  Upper middle income  2020          THA               48  71127802.0   \n",
      "9262872  Upper middle income  2020          THA               49  71307763.0   \n",
      "9262873  Upper middle income  2020          THA               50  71475664.0   \n",
      "9262874  Upper middle income  2020          THA               51  71601103.0   \n",
      "\n",
      "         id_populacao  \n",
      "0                   1  \n",
      "1                  43  \n",https://github.com/Fectnho/BD2.2023Project_Puc/blob/main/processamento_dados/PUC%20Energia%20-%202.2023.ipynb
      "2                  85  \n",
      "3                 127  \n",
      "4                 169  \n",
      "...               ...  \n",
      "9262870          1972  \n",
      "9262871          2014  \n",
      "9262872          2056  \n",
      "9262873          2098  \n",
      "9262874          2140  \n",
      "\n",
      "[9262875 rows x 18 columns]\n"
     ]
    }
   ],
   "source": [
    "print(tab_energia)"
   ]
  },
  {
   "cell_type": "markdown",
   "id": "1c6e5309",
   "metadata": {},
   "source": [
    "# Machine Learning"
   ]
  },
  {
   "cell_type": "code",
   "execution_count": 349,
   "id": "a8d41461",
   "metadata": {},
   "outputs": [],
   "source": [
   
