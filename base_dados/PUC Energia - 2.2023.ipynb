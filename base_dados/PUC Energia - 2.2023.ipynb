{
 "cells": [
  {
   "cell_type": "code",
   "execution_count": 17,
   "id": "8bc7a85f",
   "metadata": {},
   "outputs": [],
   "source": [
    "import pandas as pd"
   ]
  },
  {
   "cell_type": "code",
   "execution_count": 4,
   "id": "c23ce1d3",
   "metadata": {},
   "outputs": [],
   "source": [
    "#carregando as tableas"
   ]
  },
  {
   "cell_type": "code",
   "execution_count": 5,
   "id": "cfc29235",
   "metadata": {},
   "outputs": [],
   "source": [
    "tab_calendario = pd.read_csv('dim_calendario.csv')"
   ]
  },
  {
   "cell_type": "code",
   "execution_count": 6,
   "id": "5f7480a3",
   "metadata": {},
   "outputs": [
    {
     "data": {
      "text/plain": [
       "fk_calendario    int64\n",
       "ano              int64\n",
       "dtype: object"
      ]
     },
     "execution_count": 6,
     "metadata": {},
     "output_type": "execute_result"
    }
   ],
   "source": [
    "tab_calendario.dtypes "
   ]
  },
  {
   "cell_type": "code",
   "execution_count": 7,
   "id": "0fce6bd8",
   "metadata": {},
   "outputs": [],
   "source": [
    "tab_pais = pd.read_csv('dim_pais.csv')"
   ]
  },
  {
   "cell_type": "code",
   "execution_count": 37,
   "id": "8ebc04c2",
   "metadata": {},
   "outputs": [
    {
     "data": {
      "text/plain": [
       "fk_pais_1       int64\n",
       "nome_pais      object\n",
       "pais_bloco     object\n",
       "pais_regiao    object\n",
       "pais_renda     object\n",
       "dtype: object"
      ]
     },
     "execution_count": 37,
     "metadata": {},
     "output_type": "execute_result"
    }
   ],
   "source": [
    "tab_pais.dtypes"
   ]
  },
  {
   "cell_type": "code",
   "execution_count": 38,
   "id": "ca93178b",
   "metadata": {},
   "outputs": [],
   "source": [
    "#renomeando a coluna "
   ]
  },
  {
   "cell_type": "code",
   "execution_count": 40,
   "id": "856a50c8",
   "metadata": {},
   "outputs": [],
   "source": [
    "tab_pais = tab_pais.rename (columns = {'fk_pais_1':'fk_pais'})"
   ]
  },
  {
   "cell_type": "code",
   "execution_count": 41,
   "id": "17503773",
   "metadata": {},
   "outputs": [
    {
     "data": {
      "text/plain": [
       "fk_pais         int64\n",
       "nome_pais      object\n",
       "pais_bloco     object\n",
       "pais_regiao    object\n",
       "pais_renda     object\n",
       "dtype: object"
      ]
     },
     "execution_count": 41,
     "metadata": {},
     "output_type": "execute_result"
    }
   ],
   "source": [
    "tab_pais.dtypes"
   ]
  },
  {
   "cell_type": "code",
   "execution_count": 9,
   "id": "7a89673e",
   "metadata": {},
   "outputs": [],
   "source": [
    "tab_produto = pd.read_csv('dim_produto.csv')"
   ]
  },
  {
   "cell_type": "code",
   "execution_count": 10,
   "id": "6da701a0",
   "metadata": {},
   "outputs": [
    {
     "data": {
      "text/plain": [
       "fk_produto       int64\n",
       "nome_produto    object\n",
       "tipo            object\n",
       "dtype: object"
      ]
     },
     "execution_count": 10,
     "metadata": {},
     "output_type": "execute_result"
    }
   ],
   "source": [
    "tab_produto.dtypes"
   ]
  },
  {
   "cell_type": "code",
   "execution_count": 11,
   "id": "92f97c0d",
   "metadata": {},
   "outputs": [],
   "source": [
    "tab_setor = pd.read_csv('dim_setor.csv')"
   ]
  },
  {
   "cell_type": "code",
   "execution_count": 12,
   "id": "fc637246",
   "metadata": {},
   "outputs": [
    {
     "data": {
      "text/plain": [
       "fk_setor       int64\n",
       "nome_setor    object\n",
       "dtype: object"
      ]
     },
     "execution_count": 12,
     "metadata": {},
     "output_type": "execute_result"
    }
   ],
   "source": [
    "tab_setor.dtypes"
   ]
  },
  {
   "cell_type": "code",
   "execution_count": 13,
   "id": "2b4a32ec",
   "metadata": {},
   "outputs": [],
   "source": [
    "tab_fato_energia = pd.read_csv('fato_energia.csv')"
   ]
  },
  {
   "cell_type": "code",
   "execution_count": 14,
   "id": "2ba7a288",
   "metadata": {},
   "outputs": [
    {
     "data": {
      "text/plain": [
       "id_energia        int64\n",
       "fk_pais           int64\n",
       "fk_setor          int64\n",
       "fk_produto        int64\n",
       "fk_calendario     int64\n",
       "valor            object\n",
       "dtype: object"
      ]
     },
     "execution_count": 14,
     "metadata": {},
     "output_type": "execute_result"
    }
   ],
   "source": [
    "tab_fato_energia.dtypes"
   ]
  },
  {
   "cell_type": "code",
   "execution_count": 15,
   "id": "e33604a1",
   "metadata": {},
   "outputs": [],
   "source": [
    "tab_fato_populacao = pd.read_csv('fato_populacao.csv')"
   ]
  },
  {
   "cell_type": "code",
   "execution_count": 16,
   "id": "debeb65e",
   "metadata": {},
   "outputs": [
    {
     "data": {
      "text/plain": [
       "pais_bloco        object\n",
       "fk_pais            int64\n",
       "fk_calendario      int64\n",
       "populacao        float64\n",
       "id_populacao       int64\n",
       "dtype: object"
      ]
     },
     "execution_count": 16,
     "metadata": {},
     "output_type": "execute_result"
    }
   ],
   "source": [
    "tab_fato_populacao.dtypes"
   ]
  },
  {
   "cell_type": "code",
   "execution_count": 18,
   "id": "d7c28936",
   "metadata": {},
   "outputs": [],
   "source": [
    "#unindo as tabelas"
   ]
  },
  {
   "cell_type": "code",
   "execution_count": 30,
   "id": "e527bc25",
   "metadata": {},
   "outputs": [],
   "source": [
    "tab_energia = pd.merge(tab_fato_energia,tab_setor, on = 'fk_setor', how = 'inner')"
   ]
  },
  {
   "cell_type": "code",
   "execution_count": 31,
   "id": "19d4b02b",
   "metadata": {},
   "outputs": [
    {
     "name": "stdout",
     "output_type": "stream",
     "text": [
      "        id_energia  fk_pais  fk_setor  fk_produto  fk_calendario        valor  \\\n",
      "0                1        2         9           1              1  1368.251838   \n",
      "1               13        2         9           2              1  620.7177142   \n",
      "2               25        2         9           8              1            0   \n",
      "3               37        2         9           6              1  75.06450081   \n",
      "4               49        2         9           7              1            0   \n",
      "...            ...      ...       ...         ...            ...          ...   \n",
      "222151      222152       43         2           7             51            0   \n",
      "222152      222153       43         2           9             51     33066.05   \n",
      "222153      222154        1         2           4             51           ..   \n",
      "222154      222155        1         2           7             51           ..   \n",
      "222155      222156        1         2           9             51           ..   \n",
      "\n",
      "                      nome_setor  \n",
      "0                Production (PJ)  \n",
      "1                Production (PJ)  \n",
      "2                Production (PJ)  \n",
      "3                Production (PJ)  \n",
      "4                Production (PJ)  \n",
      "...                          ...  \n",
      "222151  Electricity output (GWh)  \n",
      "222152  Electricity output (GWh)  \n",
      "222153  Electricity output (GWh)  \n",
      "222154  Electricity output (GWh)  \n",
      "222155  Electricity output (GWh)  \n",
      "\n",
      "[222156 rows x 7 columns]\n"
     ]
    }
   ],
   "source": [
    "print(tab_energia)"
   ]
  },
  {
   "cell_type": "code",
   "execution_count": 32,
   "id": "81077838",
   "metadata": {},
   "outputs": [],
   "source": [
    "tab_energia = pd.merge(tab_energia, tab_produto, on = 'fk_produto', how = 'inner')"
   ]
  },
  {
   "cell_type": "code",
   "execution_count": 42,
   "id": "67f2eb89",
   "metadata": {},
   "outputs": [
    {
     "name": "stdout",
     "output_type": "stream",
     "text": [
      "        id_energia  fk_pais  fk_setor  fk_produto  fk_calendario        valor  \\\n",
      "0                1        2         9           1              1  1368.251838   \n",
      "1               97        3         9           1              1  43.48392895   \n",
      "2              193        4         9           1              1  284.4996793   \n",
      "3              289        6         9           1              1  396.0110403   \n",
      "4              385        7         9           1              1  47.31181134   \n",
      "...            ...      ...       ...         ...            ...          ...   \n",
      "217795      217788       30         2           9             50     6979.362   \n",
      "217796      217791       36         2           9             50     1272.822   \n",
      "217797      217794       39         2           9             50    12762.398   \n",
      "217798      217797       43         2           9             50    29549.073   \n",
      "217799      217800        1         2           9             50   184009.911   \n",
      "\n",
      "                      nome_setor              nome_produto tipo   ano  \n",
      "0                Production (PJ)  Coal, peat and oil shale  NRW  1971  \n",
      "1                Production (PJ)  Coal, peat and oil shale  NRW  1971  \n",
      "2                Production (PJ)  Coal, peat and oil shale  NRW  1971  \n",
      "3                Production (PJ)  Coal, peat and oil shale  NRW  1971  \n",
      "4                Production (PJ)  Coal, peat and oil shale  NRW  1971  \n",
      "...                          ...                       ...  ...   ...  \n",
      "217795  Electricity output (GWh)         Renewable sources   RW  2020  \n",
      "217796  Electricity output (GWh)         Renewable sources   RW  2020  \n",
      "217797  Electricity output (GWh)         Renewable sources   RW  2020  \n",
      "217798  Electricity output (GWh)         Renewable sources   RW  2020  \n",
      "217799  Electricity output (GWh)         Renewable sources   RW  2020  \n",
      "\n",
      "[217800 rows x 10 columns]\n"
     ]
    }
   ],
   "source": [
    "print(tab_energia)"
   ]
  },
  {
   "cell_type": "code",
   "execution_count": 44,
   "id": "11823bf2",
   "metadata": {},
   "outputs": [],
   "source": [
    "tab_energia = pd.merge(tab_energia, tab_pais, on = 'fk_pais', how = 'inner')"
   ]
  },
  {
   "cell_type": "code",
   "execution_count": 45,
   "id": "455762d6",
   "metadata": {},
   "outputs": [
    {
     "name": "stdout",
     "output_type": "stream",
     "text": [
      "        id_energia  fk_pais  fk_setor  fk_produto  fk_calendario  \\\n",
      "0                1        2         9           1              1   \n",
      "1                2        2         5           1              1   \n",
      "2                3        2         4           1              1   \n",
      "3                4        2        11           1              1   \n",
      "4                5        2         3           1              1   \n",
      "...            ...      ...       ...         ...            ...   \n",
      "217795      217666        1        10           5             50   \n",
      "217796      217667        1         1           5             50   \n",
      "217797      217668        1         8           5             50   \n",
      "217798      217798        1         2           4             50   \n",
      "217799      217800        1         2           9             50   \n",
      "\n",
      "               valor                             nome_setor  \\\n",
      "0        1368.251838                        Production (PJ)   \n",
      "1                  0                           Imports (PJ)   \n",
      "2       -541.4240011                           Exports (PJ)   \n",
      "3        884.2974695               Total energy supply (PJ)   \n",
      "4       -516.5385537  Electricity, CHP and heat plants (PJ)   \n",
      "...              ...                                    ...   \n",
      "217795             0                       Residential (PJ)   \n",
      "217796             0    Commercial and public services (PJ)   \n",
      "217797             0           Other final consumption (PJ)   \n",
      "217798    640427.364               Electricity output (GWh)   \n",
      "217799    184009.911               Electricity output (GWh)   \n",
      "\n",
      "                    nome_produto tipo   ano nome_pais_x pais_bloco_x  \\\n",
      "0       Coal, peat and oil shale  NRW  1971   Australia          AUS   \n",
      "1       Coal, peat and oil shale  NRW  1971   Australia          AUS   \n",
      "2       Coal, peat and oil shale  NRW  1971   Australia          AUS   \n",
      "3       Coal, peat and oil shale  NRW  1971   Australia          AUS   \n",
      "4       Coal, peat and oil shale  NRW  1971   Australia          AUS   \n",
      "...                          ...  ...   ...         ...          ...   \n",
      "217795                      Heat  NRW  2020      Africa          CAF   \n",
      "217796                      Heat  NRW  2020      Africa          CAF   \n",
      "217797                      Heat  NRW  2020      Africa          CAF   \n",
      "217798              Fossil fuels  NRW  2020      Africa          CAF   \n",
      "217799         Renewable sources   RW  2020      Africa          CAF   \n",
      "\n",
      "              pais_regiao_x pais_renda_x nome_pais_y pais_bloco_y  \\\n",
      "0       East Asia & Pacific  High income   Australia          AUS   \n",
      "1       East Asia & Pacific  High income   Australia          AUS   \n",
      "2       East Asia & Pacific  High income   Australia          AUS   \n",
      "3       East Asia & Pacific  High income   Australia          AUS   \n",
      "4       East Asia & Pacific  High income   Australia          AUS   \n",
      "...                     ...          ...         ...          ...   \n",
      "217795   Sub-Saharan Africa   Low income      Africa          CAF   \n",
      "217796   Sub-Saharan Africa   Low income      Africa          CAF   \n",
      "217797   Sub-Saharan Africa   Low income      Africa          CAF   \n",
      "217798   Sub-Saharan Africa   Low income      Africa          CAF   \n",
      "217799   Sub-Saharan Africa   Low income      Africa          CAF   \n",
      "\n",
      "              pais_regiao_y pais_renda_y  \n",
      "0       East Asia & Pacific  High income  \n",
      "1       East Asia & Pacific  High income  \n",
      "2       East Asia & Pacific  High income  \n",
      "3       East Asia & Pacific  High income  \n",
      "4       East Asia & Pacific  High income  \n",
      "...                     ...          ...  \n",
      "217795   Sub-Saharan Africa   Low income  \n",
      "217796   Sub-Saharan Africa   Low income  \n",
      "217797   Sub-Saharan Africa   Low income  \n",
      "217798   Sub-Saharan Africa   Low income  \n",
      "217799   Sub-Saharan Africa   Low income  \n",
      "\n",
      "[217800 rows x 18 columns]\n"
     ]
    }
   ],
   "source": [
    "print (tab_energia)"
   ]
  },
  {
   "cell_type": "code",
   "execution_count": 46,
   "id": "e447e0e6",
   "metadata": {},
   "outputs": [],
   "source": [
    "tab_energia = pd.merge(tab_energia, tab_calendario, on = 'fk_calendario', how = 'inner')"
   ]
  },
  {
   "cell_type": "code",
   "execution_count": 47,
   "id": "ffcc8388",
   "metadata": {},
   "outputs": [
    {
     "name": "stdout",
     "output_type": "stream",
     "text": [
      "        id_energia  fk_pais  fk_setor  fk_produto  fk_calendario  \\\n",
      "0                1        2         9           1              1   \n",
      "1                2        2         5           1              1   \n",
      "2                3        2         4           1              1   \n",
      "3                4        2        11           1              1   \n",
      "4                5        2         3           1              1   \n",
      "...            ...      ...       ...         ...            ...   \n",
      "217795      217666        1        10           5             50   \n",
      "217796      217667        1         1           5             50   \n",
      "217797      217668        1         8           5             50   \n",
      "217798      217798        1         2           4             50   \n",
      "217799      217800        1         2           9             50   \n",
      "\n",
      "               valor                             nome_setor  \\\n",
      "0        1368.251838                        Production (PJ)   \n",
      "1                  0                           Imports (PJ)   \n",
      "2       -541.4240011                           Exports (PJ)   \n",
      "3        884.2974695               Total energy supply (PJ)   \n",
      "4       -516.5385537  Electricity, CHP and heat plants (PJ)   \n",
      "...              ...                                    ...   \n",
      "217795             0                       Residential (PJ)   \n",
      "217796             0    Commercial and public services (PJ)   \n",
      "217797             0           Other final consumption (PJ)   \n",
      "217798    640427.364               Electricity output (GWh)   \n",
      "217799    184009.911               Electricity output (GWh)   \n",
      "\n",
      "                    nome_produto tipo  ano_x nome_pais_x pais_bloco_x  \\\n",
      "0       Coal, peat and oil shale  NRW   1971   Australia          AUS   \n",
      "1       Coal, peat and oil shale  NRW   1971   Australia          AUS   \n",
      "2       Coal, peat and oil shale  NRW   1971   Australia          AUS   \n",
      "3       Coal, peat and oil shale  NRW   1971   Australia          AUS   \n",
      "4       Coal, peat and oil shale  NRW   1971   Australia          AUS   \n",
      "...                          ...  ...    ...         ...          ...   \n",
      "217795                      Heat  NRW   2020      Africa          CAF   \n",
      "217796                      Heat  NRW   2020      Africa          CAF   \n",
      "217797                      Heat  NRW   2020      Africa          CAF   \n",
      "217798              Fossil fuels  NRW   2020      Africa          CAF   \n",
      "217799         Renewable sources   RW   2020      Africa          CAF   \n",
      "\n",
      "              pais_regiao_x pais_renda_x nome_pais_y pais_bloco_y  \\\n",
      "0       East Asia & Pacific  High income   Australia          AUS   \n",
      "1       East Asia & Pacific  High income   Australia          AUS   \n",
      "2       East Asia & Pacific  High income   Australia          AUS   \n",
      "3       East Asia & Pacific  High income   Australia          AUS   \n",
      "4       East Asia & Pacific  High income   Australia          AUS   \n",
      "...                     ...          ...         ...          ...   \n",
      "217795   Sub-Saharan Africa   Low income      Africa          CAF   \n",
      "217796   Sub-Saharan Africa   Low income      Africa          CAF   \n",
      "217797   Sub-Saharan Africa   Low income      Africa          CAF   \n",
      "217798   Sub-Saharan Africa   Low income      Africa          CAF   \n",
      "217799   Sub-Saharan Africa   Low income      Africa          CAF   \n",
      "\n",
      "              pais_regiao_y pais_renda_y  ano_y  \n",
      "0       East Asia & Pacific  High income   1971  \n",
      "1       East Asia & Pacific  High income   1971  \n",
      "2       East Asia & Pacific  High income   1971  \n",
      "3       East Asia & Pacific  High income   1971  \n",
      "4       East Asia & Pacific  High income   1971  \n",
      "...                     ...          ...    ...  \n",
      "217795   Sub-Saharan Africa   Low income   2020  \n",
      "217796   Sub-Saharan Africa   Low income   2020  \n",
      "217797   Sub-Saharan Africa   Low income   2020  \n",
      "217798   Sub-Saharan Africa   Low income   2020  \n",
      "217799   Sub-Saharan Africa   Low income   2020  \n",
      "\n",
      "[217800 rows x 19 columns]\n"
     ]
    }
   ],
   "source": [
    "print(tab_energia)"
   ]
  },
  {
   "cell_type": "code",
   "execution_count": null,
   "id": "4fc8a8ca",
   "metadata": {},
   "outputs": [],
   "source": [
    "tab_energia = pd.merge(tab_energia, tab_fato_populacao, on = 'fk_pais', how = 'inner')"
   ]
  },
  {
   "cell_type": "code",
   "execution_count": 52,
   "id": "c25a8ab7",
   "metadata": {},
   "outputs": [
    {
     "name": "stdout",
     "output_type": "stream",
     "text": [
      "          id_energia  fk_pais  fk_setor  fk_produto  fk_calendario_x  \\\n",
      "0                  1        2         9           1                1   \n",
      "1                  1        2         9           1                1   \n",
      "2                  1        2         9           1                1   \n",
      "3                  1        2         9           1                1   \n",
      "4                  1        2         9           1                1   \n",
      "...              ...      ...       ...         ...              ...   \n",
      "10350445      217797       43         2           9               50   \n",
      "10350446      217797       43         2           9               50   \n",
      "10350447      217797       43         2           9               50   \n",
      "10350448      217797       43         2           9               50   \n",
      "10350449      217797       43         2           9               50   \n",
      "\n",
      "                valor                nome_setor              nome_produto  \\\n",
      "0         1368.251838           Production (PJ)  Coal, peat and oil shale   \n",
      "1         1368.251838           Production (PJ)  Coal, peat and oil shale   \n",
      "2         1368.251838           Production (PJ)  Coal, peat and oil shale   \n",
      "3         1368.251838           Production (PJ)  Coal, peat and oil shale   \n",
      "4         1368.251838           Production (PJ)  Coal, peat and oil shale   \n",
      "...               ...                       ...                       ...   \n",
      "10350445    29549.073  Electricity output (GWh)         Renewable sources   \n",
      "10350446    29549.073  Electricity output (GWh)         Renewable sources   \n",
      "10350447    29549.073  Electricity output (GWh)         Renewable sources   \n",
      "10350448    29549.073  Electricity output (GWh)         Renewable sources   \n",
      "10350449    29549.073  Electricity output (GWh)         Renewable sources   \n",
      "\n",
      "         tipo  ano_x  ...         pais_renda_x nome_pais_y pais_bloco_y  \\\n",
      "0         NRW   1971  ...          High income   Australia          AUS   \n",
      "1         NRW   1971  ...          High income   Australia          AUS   \n",
      "2         NRW   1971  ...          High income   Australia          AUS   \n",
      "3         NRW   1971  ...          High income   Australia          AUS   \n",
      "4         NRW   1971  ...          High income   Australia          AUS   \n",
      "...       ...    ...  ...                  ...         ...          ...   \n",
      "10350445   RW   2020  ...  Upper middle income    Thailand          THA   \n",
      "10350446   RW   2020  ...  Upper middle income    Thailand          THA   \n",
      "10350447   RW   2020  ...  Upper middle income    Thailand          THA   \n",
      "10350448   RW   2020  ...  Upper middle income    Thailand          THA   \n",
      "10350449   RW   2020  ...  Upper middle income    Thailand          THA   \n",
      "\n",
      "                pais_regiao_y         pais_renda_y ano_y pais_bloco  \\\n",
      "0         East Asia & Pacific          High income  1971        AUS   \n",
      "1         East Asia & Pacific          High income  1971        AUS   \n",
      "2         East Asia & Pacific          High income  1971        AUS   \n",
      "3         East Asia & Pacific          High income  1971        AUS   \n",
      "4         East Asia & Pacific          High income  1971        AUS   \n",
      "...                       ...                  ...   ...        ...   \n",
      "10350445  East Asia & Pacific  Upper middle income  2020        THA   \n",
      "10350446  East Asia & Pacific  Upper middle income  2020        THA   \n",
      "10350447  East Asia & Pacific  Upper middle income  2020        THA   \n",
      "10350448  East Asia & Pacific  Upper middle income  2020        THA   \n",
      "10350449  East Asia & Pacific  Upper middle income  2020        THA   \n",
      "\n",
      "         fk_calendario_y   populacao id_populacao  \n",
      "0                      1  12937000.0            1  \n",
      "1                      2  13177000.0           43  \n",
      "2                      3  13380000.0           85  \n",
      "3                      4  13723000.0          127  \n",
      "4                      5  13893000.0          169  \n",
      "...                  ...         ...          ...  \n",
      "10350445              47  70898202.0         1972  \n",
      "10350446              48  71127802.0         2014  \n",
      "10350447              49  71307763.0         2056  \n",
      "10350448              50  71475664.0         2098  \n",
      "10350449              51  71601103.0         2140  \n",
      "\n",
      "[10350450 rows x 23 columns]\n"
     ]
    }
   ],
   "source": [
    "print(tab_energia)"
   ]
  },
  {
   "cell_type": "code",
   "execution_count": 53,
   "id": "ed6c77ad",
   "metadata": {},
   "outputs": [],
   "source": [
    "tab_energia1 = pd.DataFrame(tab_energia)"
   ]
  },
  {
   "cell_type": "code",
   "execution_count": 55,
   "id": "b14cbfe4",
   "metadata": {},
   "outputs": [],
   "source": [
    "tab_energia1.to_csv('tab_energia1.csv', index = False)"
   ]
  },
  {
   "cell_type": "code",
   "execution_count": null,
   "id": "0e7b8d00",
   "metadata": {},
   "outputs": [],
   "source": [
    "tab_energia2 = pd.DataFrame(tab_energia)"
   ]
  },
  {
   "cell_type": "code",
   "execution_count": null,
   "id": "6e985fb0",
   "metadata": {},
   "outputs": [],
   "source": [
    "tab_energia2.to_excel('tab_energia2.csv', index = False, engine = 'openpyxl')"
   ]
  }
 ],
 "metadata": {
  "kernelspec": {
   "display_name": "Python 3 (ipykernel)",
   "language": "python",
   "name": "python3"
  },
  "language_info": {
   "codemirror_mode": {
    "name": "ipython",
    "version": 3
   },
   "file_extension": ".py",
   "mimetype": "text/x-python",
   "name": "python",
   "nbconvert_exporter": "python",
   "pygments_lexer": "ipython3",
   "version": "3.9.12"
  }
 },
 "nbformat": 4,
 "nbformat_minor": 5
}
